{
 "cells": [
  {
   "cell_type": "code",
   "execution_count": 61,
   "id": "820dd713",
   "metadata": {},
   "outputs": [],
   "source": [
    "import pandas as pd\n",
    "\n",
    "# POR REGIÃO\n",
    "# FONTE: https://www.ipea.gov.br/atlasviolencia/filtros-series/16/suicidios\n",
    "df = pd.read_csv('suicidio-de-jovens-regiao.csv', delimiter=';')\n",
    "pd.set_option('display.max_rows', 100)"
   ]
  },
  {
   "cell_type": "code",
   "execution_count": 62,
   "id": "975bb7d5",
   "metadata": {},
   "outputs": [
    {
     "name": "stdout",
     "output_type": "stream",
     "text": [
      "<class 'pandas.core.frame.DataFrame'>\n",
      "RangeIndex: 918 entries, 0 to 917\n",
      "Data columns (total 4 columns):\n",
      " #   Column   Non-Null Count  Dtype \n",
      "---  ------   --------------  ----- \n",
      " 0   cod      918 non-null    int64 \n",
      " 1   nome     918 non-null    object\n",
      " 2   período  918 non-null    int64 \n",
      " 3   valor    918 non-null    int64 \n",
      "dtypes: int64(3), object(1)\n",
      "memory usage: 28.8+ KB\n"
     ]
    }
   ],
   "source": [
    "df.info()"
   ]
  },
  {
   "cell_type": "code",
   "execution_count": 63,
   "id": "dcf86d82",
   "metadata": {},
   "outputs": [
    {
     "data": {
      "text/html": [
       "<div>\n",
       "<style scoped>\n",
       "    .dataframe tbody tr th:only-of-type {\n",
       "        vertical-align: middle;\n",
       "    }\n",
       "\n",
       "    .dataframe tbody tr th {\n",
       "        vertical-align: top;\n",
       "    }\n",
       "\n",
       "    .dataframe thead th {\n",
       "        text-align: right;\n",
       "    }\n",
       "</style>\n",
       "<table border=\"1\" class=\"dataframe\">\n",
       "  <thead>\n",
       "    <tr style=\"text-align: right;\">\n",
       "      <th></th>\n",
       "      <th>cod</th>\n",
       "      <th>nome</th>\n",
       "      <th>período</th>\n",
       "      <th>valor</th>\n",
       "    </tr>\n",
       "  </thead>\n",
       "  <tbody>\n",
       "    <tr>\n",
       "      <th>0</th>\n",
       "      <td>50</td>\n",
       "      <td>MS</td>\n",
       "      <td>1989</td>\n",
       "      <td>30</td>\n",
       "    </tr>\n",
       "    <tr>\n",
       "      <th>1</th>\n",
       "      <td>15</td>\n",
       "      <td>PA</td>\n",
       "      <td>1989</td>\n",
       "      <td>41</td>\n",
       "    </tr>\n",
       "    <tr>\n",
       "      <th>2</th>\n",
       "      <td>17</td>\n",
       "      <td>TO</td>\n",
       "      <td>1989</td>\n",
       "      <td>5</td>\n",
       "    </tr>\n",
       "    <tr>\n",
       "      <th>3</th>\n",
       "      <td>14</td>\n",
       "      <td>RR</td>\n",
       "      <td>1989</td>\n",
       "      <td>1</td>\n",
       "    </tr>\n",
       "    <tr>\n",
       "      <th>4</th>\n",
       "      <td>53</td>\n",
       "      <td>DF</td>\n",
       "      <td>1989</td>\n",
       "      <td>32</td>\n",
       "    </tr>\n",
       "  </tbody>\n",
       "</table>\n",
       "</div>"
      ],
      "text/plain": [
       "   cod nome  período  valor\n",
       "0   50   MS     1989     30\n",
       "1   15   PA     1989     41\n",
       "2   17   TO     1989      5\n",
       "3   14   RR     1989      1\n",
       "4   53   DF     1989     32"
      ]
     },
     "execution_count": 63,
     "metadata": {},
     "output_type": "execute_result"
    }
   ],
   "source": [
    "df.head()"
   ]
  },
  {
   "cell_type": "code",
   "execution_count": 64,
   "id": "1dffd218",
   "metadata": {},
   "outputs": [
    {
     "name": "stdout",
     "output_type": "stream",
     "text": [
      "91533\n",
      "34\n",
      "2692.15\n",
      "224.35\n",
      "7.38\n"
     ]
    }
   ],
   "source": [
    "mortes = df['valor'].sum()\n",
    "anos = df['período'].nunique()\n",
    "media_ano = round(mortes / anos , 2)\n",
    "\n",
    "media_mes = round(media_ano / 12, 2)\n",
    "media_dia = round(media_ano / 365, 2)\n",
    "\n",
    "print(mortes)\n",
    "print(anos)\n",
    "\n",
    "print(media_ano)\n",
    "print(media_mes)\n",
    "print(media_dia)\n",
    "\n"
   ]
  },
  {
   "cell_type": "code",
   "execution_count": 65,
   "id": "b28a8680",
   "metadata": {},
   "outputs": [
    {
     "name": "stdout",
     "output_type": "stream",
     "text": [
      "799 1\n"
     ]
    }
   ],
   "source": [
    "maior = df['valor'].max()\n",
    "menor = df['valor'].min()\n",
    "\n",
    "print(maior, menor)"
   ]
  },
  {
   "cell_type": "code",
   "execution_count": 66,
   "id": "e1f38314",
   "metadata": {},
   "outputs": [
    {
     "data": {
      "text/plain": [
       "período\n",
       "2022    4457\n",
       "2021    4234\n",
       "2019    3862\n",
       "2020    3771\n",
       "2018    3396\n",
       "2017    3263\n",
       "2016    2954\n",
       "2011    2954\n",
       "2015    2936\n",
       "2012    2900\n",
       "2014    2898\n",
       "2013    2872\n",
       "2008    2865\n",
       "2010    2815\n",
       "2009    2775\n",
       "2007    2737\n",
       "2006    2668\n",
       "2003    2613\n",
       "2005    2597\n",
       "2004    2586\n",
       "2001    2539\n",
       "2002    2515\n",
       "1996    2334\n",
       "1995    2298\n",
       "1998    2285\n",
       "1997    2225\n",
       "1994    2153\n",
       "2000    2142\n",
       "1999    2132\n",
       "1993    2025\n",
       "1992    1779\n",
       "1991    1730\n",
       "1990    1664\n",
       "1989    1559\n",
       "Name: valor, dtype: int64"
      ]
     },
     "execution_count": 66,
     "metadata": {},
     "output_type": "execute_result"
    }
   ],
   "source": [
    "df.groupby('período')['valor'].sum().sort_values(ascending=False)"
   ]
  },
  {
   "cell_type": "code",
   "execution_count": 67,
   "id": "5b64c5fc",
   "metadata": {},
   "outputs": [
    {
     "data": {
      "text/plain": [
       "nome\n",
       "SP    18449\n",
       "MG     9324\n",
       "RS     7627\n",
       "PR     6774\n",
       "CE     4655\n",
       "SC     4034\n",
       "GO     3875\n",
       "RJ     3614\n",
       "PE     3592\n",
       "BA     3516\n",
       "PA     2990\n",
       "MS     2444\n",
       "AM     2423\n",
       "MT     2131\n",
       "MA     2047\n",
       "PI     1939\n",
       "SE     1699\n",
       "DF     1588\n",
       "ES     1364\n",
       "RO     1275\n",
       "PB     1219\n",
       "RN     1217\n",
       "AL     1172\n",
       "TO      816\n",
       "AP      688\n",
       "AC      531\n",
       "RR      530\n",
       "Name: valor, dtype: int64"
      ]
     },
     "execution_count": 67,
     "metadata": {},
     "output_type": "execute_result"
    }
   ],
   "source": [
    "df.groupby('nome')['valor'].sum().sort_values(ascending=False)"
   ]
  },
  {
   "cell_type": "code",
   "execution_count": 70,
   "id": "c8274e54",
   "metadata": {},
   "outputs": [
    {
     "name": "stdout",
     "output_type": "stream",
     "text": [
      "nome\n",
      "SE    799\n",
      "MT    480\n",
      "PE    318\n",
      "RO    284\n",
      "BA    227\n",
      "PA    210\n",
      "CE    206\n",
      "RJ    204\n",
      "GO    202\n",
      "SC    199\n",
      "AP    153\n",
      "PI    143\n",
      "MS    127\n",
      "MA    116\n",
      "MG    109\n",
      "PR     95\n",
      "DF     83\n",
      "PB     74\n",
      "RN     65\n",
      "AL     64\n",
      "TO     54\n",
      "RR     53\n",
      "ES     51\n",
      "SP     46\n",
      "AM     34\n",
      "AC     34\n",
      "RS     27\n",
      "Name: valor, dtype: int64\n"
     ]
    }
   ],
   "source": [
    "recente = df[df['período'] == 2022]\n",
    "\n",
    "estado = recente.groupby('nome')['valor'].sum().sort_values(ascending=False)\n",
    "\n",
    "print(estado)"
   ]
  }
 ],
 "metadata": {
  "kernelspec": {
   "display_name": "base",
   "language": "python",
   "name": "python3"
  },
  "language_info": {
   "codemirror_mode": {
    "name": "ipython",
    "version": 3
   },
   "file_extension": ".py",
   "mimetype": "text/x-python",
   "name": "python",
   "nbconvert_exporter": "python",
   "pygments_lexer": "ipython3",
   "version": "3.12.7"
  }
 },
 "nbformat": 4,
 "nbformat_minor": 5
}
